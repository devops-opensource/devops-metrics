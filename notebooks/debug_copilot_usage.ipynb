{
 "cells": [
  {
   "cell_type": "markdown",
   "metadata": {},
   "source": [
    "# Debug Notebook for GitHub Copilot Usage\n",
    "\n",
    "This notebook demonstrates how to instantiate and invoke methods from your local exporter scripts. You can use it to debug the data extraction and adaptation processes for GitHub Copilot usage data."
   ]
  },
  {
   "cell_type": "code",
   "execution_count": 4,
   "metadata": {
    "tags": []
   },
   "outputs": [],
   "source": [
    "# If your project structure is something like:\n",
    "# PROJECT_ROOT/\n",
    "#   |-- notebooks/debug_copilot_usage.ipynb\n",
    "#   |-- src/\n",
    "#        |-- extractor/\n",
    "#             |-- github_exporter.py\n",
    "#             |-- github_copilot_exporter.py\n",
    "#        |-- common/\n",
    "#             |-- common.py\n",
    "#        |-- ...\n",
    "# make sure to add the project root to sys.path if needed.\n",
    "\n",
    "import sys\n",
    "import os\n",
    "project_root = os.path.abspath(os.path.join('..'))  # Adjust path if needed\n",
    "if project_root not in sys.path:\n",
    "    sys.path.append(project_root)\n",
    "\n",
    "# Now we can import our local modules:\n"
   ]
  },
  {
   "cell_type": "markdown",
   "metadata": {},
   "source": [
    "## Prepare a Configuration Dictionary\n",
    "Below is a sample configuration dictionary. Adjust the values according to your project’s needs or how you manage configs (e.g., from a .ini or .env file)."
   ]
  },
  {
   "cell_type": "code",
   "execution_count": 5,
   "metadata": {
    "tags": []
   },
   "outputs": [],
   "source": [
    "\n",
    "from src.extractor.github_copilot_exporter import GithubCopilotExporter\n",
    "from src.transformer.copilot_transformer import CopilotTransformer\n",
    "from src.loader.csv_loader import CsvLoader\n",
    "\n",
    "import pandas as pd\n",
    "\n",
    "pd.options.mode.chained_assignment = None\n",
    "\n",
    "config = {\n",
    "    \"GITHUB\": {\n",
    "        \"github_url\": \"https://api.github.com\",\n",
    "        \"github_org\": \"gologic-partner\",     # Replace with your organization\n",
    "        \"github_token\": \"\"\n",
    "    }   \n",
    "}\n",
    "\n",
    "# Instantiate the Exporter\n",
    "copilot_exporter = GithubCopilotExporter()\n",
    "copilot_exporter.initialize_data(config)\n",
    "\n",
    "copilot_transformer = CopilotTransformer()\n",
    "copilot_transformer.initialize_data(config)\n",
    "\n",
    "csv_loader = CsvLoader()\n",
    "csv_loader.initialize_data({\n",
    "    \"CSV\": {\n",
    "        \"csv_filename_prefix\": \"copilot\"  # This will create files like copilot_metrics_chat_global.csv\n",
    "    }\n",
    "})"
   ]
  },
  {
   "cell_type": "markdown",
   "metadata": {},
   "source": [
    "## Call the Copilot Usage Endpoint\n",
    "We’ll do a simple request to GitHub’s Copilot usage endpoint. Adjust the query parameters (e.g., since, until) as needed.\n",
    "\n",
    "For reference, see: [Copilot Usage Docs](https://docs.github.com/en/rest/copilot/copilot-usage?apiVersion=2022-11-28)."
   ]
  },
  {
   "cell_type": "code",
   "execution_count": null,
   "id": "4a3b7ec2",
   "metadata": {},
   "outputs": [],
   "source": [
    "# Cell 2 - Code\n",
    "# First get the teams\n",
    "teams = copilot_exporter.extract_teams()\n",
    "print(\"\\nTeams found:\")\n",
    "for team in teams:\n",
    "    print(f\"- {team['name']} (slug: {team['slug']})\")"
   ]
  },
  {
   "cell_type": "code",
   "execution_count": null,
   "id": "789dd3ac",
   "metadata": {},
   "outputs": [],
   "source": [
    "# Cell 3 - Code\n",
    "# Get metrics for each team\n",
    "metrics_per_team = copilot_exporter.extract_metrics_per_team(teams)\n",
    "metrics_per_team\n"
   ]
  },
  {
   "cell_type": "code",
   "execution_count": null,
   "id": "467cf933",
   "metadata": {},
   "outputs": [],
   "source": [
    "adapted_metrics_chat_per_team = copilot_exporter.adapt_metrics_chat_team(metrics_per_team)\n",
    "adapted_metrics_chat_per_team"
   ]
  },
  {
   "cell_type": "code",
   "execution_count": null,
   "id": "4da3bf07",
   "metadata": {},
   "outputs": [],
   "source": [
    "adapted_metrics_completition_per_team = copilot_exporter.adapt_metrics_completions_team(metrics_per_team)\n",
    "adapted_metrics_completition_per_team"
   ]
  },
  {
   "cell_type": "code",
   "execution_count": null,
   "id": "c408de27",
   "metadata": {},
   "outputs": [],
   "source": [
    "global_metrics = copilot_exporter.extract_metrics_global()\n",
    "global_metrics"
   ]
  },
  {
   "cell_type": "code",
   "execution_count": null,
   "id": "a49d9a4b",
   "metadata": {},
   "outputs": [],
   "source": [
    "# Create a DataFrame from the global metrics data and normalize nested JSON\n",
    "import pandas as pd\n",
    "import json\n",
    "from pandas.io.json import json_normalize\n",
    "\n",
    "# First flatten the nested copilot_ide_chat structure\n",
    "flattened_metrics = []\n",
    "for metric in global_metrics:\n",
    "    # Get base fields\n",
    "    flat_metric = {\n",
    "        'date': metric['date']\n",
    "    }\n",
    "    \n",
    "    # Extract editor metrics\n",
    "    for editor in metric['copilot_ide_chat']['editors']:\n",
    "        for model in editor['models']:\n",
    "            # Add editor and model info\n",
    "            record = flat_metric.copy()\n",
    "            record.update({\n",
    "                'editor_name': editor['name'],\n",
    "                'model_name': model['name'],\n",
    "                'total_engaged_users': model.get('total_engaged_users', 0),\n",
    "                'total_chats': model.get('total_chats', 0)\n",
    "            })\n",
    "            \n",
    "            # Add language-specific metrics if present\n",
    "            if 'languages' in model:\n",
    "                for lang in model['languages']:\n",
    "                    lang_record = record.copy()\n",
    "                    lang_record.update({\n",
    "                        'language': lang['name'],\n",
    "                        'language_engaged_users': lang.get('total_engaged_users', 0)\n",
    "                    })\n",
    "                    flattened_metrics.append(lang_record)\n",
    "            else:\n",
    "                flattened_metrics.append(record)\n",
    "\n",
    "# Create normalized DataFrame\n",
    "df_global_metrics = pd.DataFrame(flattened_metrics)\n",
    "display(df_global_metrics)\n"
   ]
  },
  {
   "cell_type": "code",
   "execution_count": null,
   "id": "cacfab47",
   "metadata": {},
   "outputs": [],
   "source": [
    "adapted_global_metrics = copilot_exporter.adapt_metrics_chat_global(global_metrics)\n",
    "adapted_global_metrics\n"
   ]
  },
  {
   "cell_type": "code",
   "execution_count": null,
   "id": "5d79faef",
   "metadata": {},
   "outputs": [],
   "source": [
    "adapted_metrics_completion_global = copilot_exporter.adapt_metrics_completions_global(global_metrics)\n",
    "adapted_metrics_completion_global\n"
   ]
  },
  {
   "cell_type": "code",
   "execution_count": null,
   "id": "c93a2a97",
   "metadata": {},
   "outputs": [],
   "source": [
    "transformed_metrics_chat = copilot_transformer.transform_chat_metrics_team(adapted_metrics_chat_per_team)\n",
    "print(\"Transformed Chat Metrics per Team:\")\n",
    "display(transformed_metrics_chat)"
   ]
  },
  {
   "cell_type": "code",
   "execution_count": null,
   "id": "a1642beb",
   "metadata": {},
   "outputs": [],
   "source": [
    "transformed_completion_metrics = copilot_transformer.transform_completion_metrics_team(adapted_metrics_completition_per_team)\n",
    "print(\"Transformed Completion Metrics per Team:\")\n",
    "display(transformed_completion_metrics)\n"
   ]
  },
  {
   "cell_type": "code",
   "execution_count": null,
   "id": "1bf10b74",
   "metadata": {},
   "outputs": [],
   "source": [
    "transformed_global_chat = copilot_transformer.transform_chat_metrics_global(adapted_global_metrics)\n",
    "print(\"Transformed Global Chat Metrics:\")\n",
    "display(transformed_global_chat)"
   ]
  },
  {
   "cell_type": "code",
   "execution_count": null,
   "id": "1639a01c",
   "metadata": {},
   "outputs": [],
   "source": [
    "transformed_global_completion = copilot_transformer.transform_completion_metrics_global(adapted_metrics_completion_global)\n",
    "print(\"Transformed Global Completion Metrics:\")\n",
    "display(transformed_global_completion)"
   ]
  },
  {
   "cell_type": "code",
   "execution_count": null,
   "id": "962c26ed",
   "metadata": {},
   "outputs": [],
   "source": [
    "transformed_data = {\n",
    "    \"metrics_chat_global\": transformed_global_chat,\n",
    "    \"metrics_chat_team\": transformed_metrics_chat,\n",
    "    \"metrics_completion_global\": transformed_global_completion,\n",
    "    \"metrics_completion_team\": transformed_completion_metrics\n",
    "}\n",
    "\n",
    "csv_loader.load_data(transformed_data)"
   ]
  },
  {
   "cell_type": "code",
   "execution_count": null,
   "id": "bc862fcd",
   "metadata": {},
   "outputs": [],
   "source": [
    "import matplotlib.pyplot as plt\n",
    "import seaborn as sns\n",
    "\n",
    "# Set up the style\n",
    "sns.set_theme()\n",
    "sns.set_palette(\"husl\")\n",
    "\n",
    "# Create a figure with subplots\n",
    "fig, ((ax1, ax2), (ax3, ax4)) = plt.subplots(2, 2, figsize=(20, 15))\n",
    "\n",
    "# Plot 1: Global Chat Metrics Over Time\n",
    "transformed_global_chat.plot(x='date', y=['chat_per_user', 'chat_acceptance_rate'], ax=ax1)\n",
    "ax1.set_title('Global Chat Metrics Over Time')\n",
    "ax1.set_xlabel('Date')\n",
    "ax1.set_ylabel('Count')\n",
    "ax1.legend(bbox_to_anchor=(1.05, 1), loc='upper left')\n",
    "ax1.tick_params(axis='x', rotation=45)\n",
    "\n",
    "# Plot 2: Global Completion Metrics Over Time\n",
    "mean_acceptance = transformed_global_completion.groupby('date')['completion_acceptance_rate'].mean()\n",
    "mean_acceptance.plot(ax=ax2)\n",
    "ax2.set_title('Average Code Completion Acceptance Rate Over Time')\n",
    "ax2.set_xlabel('Date')\n",
    "ax2.set_ylabel('Acceptance Rate')\n",
    "ax2.legend(['Mean Acceptance Rate'], bbox_to_anchor=(1.05, 1), loc='upper left')\n",
    "ax2.tick_params(axis='x', rotation=45)\n",
    "\n",
    "# Plot 3: Chat Metrics by Team Over Time\n",
    "lines = []\n",
    "for team in transformed_metrics_chat['team'].unique():\n",
    "    team_data = transformed_metrics_chat[transformed_metrics_chat['team'] == team]\n",
    "    line, = ax3.plot(team_data['date'], team_data['chat_acceptance_rate'], label=team)\n",
    "    lines.append(line)\n",
    "ax3.set_title('Chat Usage per User by Team Over Time')\n",
    "ax3.set_xlabel('Date')\n",
    "ax3.set_ylabel('Chats per User')\n",
    "ax3.legend(handles=lines, bbox_to_anchor=(1.05, 1), loc='upper left')\n",
    "ax3.tick_params(axis='x', rotation=45)\n",
    "\n",
    "# Plot 4: Code Completion by Team Over Time\n",
    "lines = []\n",
    "for team in transformed_completion_metrics['team'].unique():\n",
    "    team_data = transformed_completion_metrics[transformed_completion_metrics['team'] == team]\n",
    "    line, = ax4.plot(team_data['date'], team_data['completion_acceptance_rate'], label=team)\n",
    "    lines.append(line)\n",
    "ax4.set_title('Code Lines Suggested by Team Over Time')\n",
    "ax4.set_xlabel('Date')\n",
    "ax4.set_ylabel('Lines of Code')\n",
    "ax4.legend(handles=lines, bbox_to_anchor=(1.05, 1), loc='upper left')\n",
    "ax4.tick_params(axis='x', rotation=45)\n",
    "\n",
    "# Adjust layout to prevent overlap\n",
    "plt.tight_layout()\n",
    "plt.show()\n"
   ]
  },
  {
   "cell_type": "markdown",
   "id": "1767265c",
   "metadata": {},
   "source": [
    "## Placeholder export and transform for active users, average active users, inactive seats and added seats this billing period\n",
    "\n",
    "TODO: refactor with mappings.json to use the global_metrics. rework adapt and transform consequently"
   ]
  },
  {
   "cell_type": "code",
   "execution_count": null,
   "id": "a8d482c2",
   "metadata": {},
   "outputs": [],
   "source": [
    "daily_active_users = copilot_exporter.extract_daily_active_users()\n",
    "new_seats_added, inactive_users = copilot_exporter.extract_seats_information()\n",
    "\n",
    "df_daily_active_users = copilot_exporter.adapt_daily_active_users(daily_active_users)\n",
    "df_seats = copilot_exporter.adapt_seats_information(new_seats_added, inactive_users)\n",
    "\n",
    "adapted_data = {\n",
    "    \"df_daily_active_users\": df_daily_active_users,\n",
    "    \"df_seats\": df_seats\n",
    "}\n",
    "\n",
    "transformed_data = copilot_transformer.transform_data(adapted_data)\n",
    "# load csv"
   ]
  },
  {
   "cell_type": "code",
   "execution_count": null,
   "id": "4fdc503c",
   "metadata": {},
   "outputs": [],
   "source": [
    "import matplotlib.pyplot as plt\n",
    "from datetime import datetime\n",
    "import pandas as pd\n",
    "\n",
    "def create_charts(transformed_data):\n",
    "    # Create figure for daily active users\n",
    "    fig, ax = plt.subplots(figsize=(12, 6))\n",
    "    df_daily = transformed_data['df_daily_active_users']\n",
    "    \n",
    "    # Use dates directly without conversion since they're already timestamps\n",
    "    ax.plot(df_daily['date'], df_daily['active_users'], marker='o', linestyle='-', linewidth=2)\n",
    "    ax.set_title('Daily Active Users Over Time')\n",
    "    ax.set_xlabel('Date')\n",
    "    ax.set_ylabel('Number of Active Users')\n",
    "    ax.grid(True)\n",
    "    \n",
    "    # Format x-axis dates\n",
    "    plt.xticks(rotation=45)\n",
    "    plt.tight_layout()\n",
    "    plt.savefig('daily_active_users.png')\n",
    "    plt.show()\n",
    "\n",
    "    # 2. Average Active Users\n",
    "    fig, ax = plt.subplots(figsize=(6, 4))\n",
    "    avg_users = transformed_data['df_average_active_users']['average_active_users'].iloc[0]\n",
    "    ax.bar(['Average'], [avg_users], color='skyblue')\n",
    "    ax.set_title('Average Active Users')\n",
    "    ax.set_ylabel('Number of Users')\n",
    "    plt.tight_layout()\n",
    "    plt.savefig('average_active_users.png')\n",
    "    plt.show()\n",
    "\n",
    "    # 3. Seats Distribution\n",
    "    fig, ax = plt.subplots(figsize=(8, 5))\n",
    "    seats_data = transformed_data['df_seats']\n",
    "    labels = ['Seats']\n",
    "    added = seats_data['added_seats']\n",
    "    inactive = seats_data['inactive_seats']\n",
    "    \n",
    "    ax.bar(labels, added, label='Added Seats', color='lightgreen')\n",
    "    ax.bar(labels, inactive, bottom=added, label='Inactive Seats', color='lightcoral')\n",
    "    ax.set_title('Seats Distribution')\n",
    "    ax.set_ylabel('Number of Seats')\n",
    "    ax.legend()\n",
    "    plt.tight_layout()\n",
    "    plt.savefig('seats_distribution.png')\n",
    "    plt.show()\n",
    "\n",
    "# Call the function\n",
    "create_charts(transformed_data)"
   ]
  },
  {
   "cell_type": "markdown",
   "metadata": {},
   "source": [
    "## Conclusion\n",
    "You can now inspect these DataFrames, observe schema changes, and debug any issues with your transformation logic or with the GitHub API data itself. Use additional cells as needed to explore data, handle errors, etc."
   ]
  }
 ],
 "metadata": {
  "kernelspec": {
   "display_name": ".venv",
   "language": "python",
   "name": "python3"
  },
  "language_info": {
   "codemirror_mode": {
    "name": "ipython",
    "version": 3
   },
   "file_extension": ".py",
   "mimetype": "text/x-python",
   "name": "python",
   "nbconvert_exporter": "python",
   "pygments_lexer": "ipython3",
   "version": "3.13.0"
  }
 },
 "nbformat": 4,
 "nbformat_minor": 5
}
