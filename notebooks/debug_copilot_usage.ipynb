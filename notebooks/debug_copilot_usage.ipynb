{
 "cells": [
  {
   "cell_type": "markdown",
   "metadata": {},
   "source": [
    "# Debug Notebook for GitHub Copilot Usage\n",
    "\n",
    "This notebook demonstrates how to instantiate and invoke methods from your local exporter scripts. You can use it to debug the data extraction and adaptation processes for GitHub Copilot usage data."
   ]
  },
  {
   "cell_type": "code",
   "execution_count": 1,
   "metadata": {
    "tags": []
   },
   "outputs": [
    {
     "ename": "ModuleNotFoundError",
     "evalue": "No module named 'requests'",
     "output_type": "error",
     "traceback": [
      "\u001b[1;31m---------------------------------------------------------------------------\u001b[0m",
      "\u001b[1;31mModuleNotFoundError\u001b[0m                       Traceback (most recent call last)",
      "Cell \u001b[1;32mIn[1], line 20\u001b[0m\n\u001b[0;32m     17\u001b[0m     sys\u001b[38;5;241m.\u001b[39mpath\u001b[38;5;241m.\u001b[39mappend(project_root)\n\u001b[0;32m     19\u001b[0m \u001b[38;5;66;03m# Now we can import our local modules:\u001b[39;00m\n\u001b[1;32m---> 20\u001b[0m \u001b[38;5;28;01mfrom\u001b[39;00m\u001b[38;5;250m \u001b[39m\u001b[38;5;21;01msrc\u001b[39;00m\u001b[38;5;21;01m.\u001b[39;00m\u001b[38;5;21;01mextractor\u001b[39;00m\u001b[38;5;21;01m.\u001b[39;00m\u001b[38;5;21;01mgithub_copilot_exporter\u001b[39;00m\u001b[38;5;250m \u001b[39m\u001b[38;5;28;01mimport\u001b[39;00m GithubCopilotExporter\n\u001b[0;32m     21\u001b[0m \u001b[38;5;28;01mimport\u001b[39;00m\u001b[38;5;250m \u001b[39m\u001b[38;5;21;01mpandas\u001b[39;00m\u001b[38;5;250m \u001b[39m\u001b[38;5;28;01mas\u001b[39;00m\u001b[38;5;250m \u001b[39m\u001b[38;5;21;01mpd\u001b[39;00m\n\u001b[0;32m     23\u001b[0m pd\u001b[38;5;241m.\u001b[39moptions\u001b[38;5;241m.\u001b[39mmode\u001b[38;5;241m.\u001b[39mchained_assignment \u001b[38;5;241m=\u001b[39m \u001b[38;5;28;01mNone\u001b[39;00m\n",
      "File \u001b[1;32mc:\\Users\\SébastienBernard\\Documents\\GitHub\\devops-metrics\\src\\__init__.py:1\u001b[0m\n\u001b[1;32m----> 1\u001b[0m \u001b[38;5;28;01mfrom\u001b[39;00m\u001b[38;5;250m \u001b[39m\u001b[38;5;21;01m.\u001b[39;00m\u001b[38;5;250m \u001b[39m\u001b[38;5;28;01mimport\u001b[39;00m common, extractor, loader, transformer\n",
      "File \u001b[1;32mc:\\Users\\SébastienBernard\\Documents\\GitHub\\devops-metrics\\src\\common\\__init__.py:1\u001b[0m\n\u001b[1;32m----> 1\u001b[0m \u001b[38;5;28;01mfrom\u001b[39;00m\u001b[38;5;250m \u001b[39m\u001b[38;5;21;01m.\u001b[39;00m\u001b[38;5;250m \u001b[39m\u001b[38;5;28;01mimport\u001b[39;00m common\n",
      "File \u001b[1;32mc:\\Users\\SébastienBernard\\Documents\\GitHub\\devops-metrics\\src\\common\\common.py:1\u001b[0m\n\u001b[1;32m----> 1\u001b[0m \u001b[38;5;28;01mfrom\u001b[39;00m\u001b[38;5;250m \u001b[39m\u001b[38;5;21;01msrc\u001b[39;00m\u001b[38;5;21;01m.\u001b[39;00m\u001b[38;5;21;01mextractor\u001b[39;00m\u001b[38;5;250m \u001b[39m\u001b[38;5;28;01mimport\u001b[39;00m (\n\u001b[0;32m      2\u001b[0m     exporter,\n\u001b[0;32m      3\u001b[0m     github_copilot_exporter,\n\u001b[0;32m      4\u001b[0m     jiracloud_exporter,\n\u001b[0;32m      5\u001b[0m     github_exporter,\n\u001b[0;32m      6\u001b[0m     gitlab_exporter\n\u001b[0;32m      7\u001b[0m )\n\u001b[0;32m      8\u001b[0m \u001b[38;5;28;01mfrom\u001b[39;00m\u001b[38;5;250m \u001b[39m\u001b[38;5;21;01msrc\u001b[39;00m\u001b[38;5;21;01m.\u001b[39;00m\u001b[38;5;21;01mloader\u001b[39;00m\u001b[38;5;250m \u001b[39m\u001b[38;5;28;01mimport\u001b[39;00m mysql_loader, csv_loader, splunk_loader, loader\n\u001b[0;32m      9\u001b[0m \u001b[38;5;28;01mfrom\u001b[39;00m\u001b[38;5;250m \u001b[39m\u001b[38;5;21;01msrc\u001b[39;00m\u001b[38;5;21;01m.\u001b[39;00m\u001b[38;5;21;01mtransformer\u001b[39;00m\u001b[38;5;250m \u001b[39m\u001b[38;5;28;01mimport\u001b[39;00m (\n\u001b[0;32m     10\u001b[0m     transformer,\n\u001b[0;32m     11\u001b[0m     project_management_transformer,\n\u001b[0;32m     12\u001b[0m     version_control_transformer,\n\u001b[0;32m     13\u001b[0m     copilot_transformer\n\u001b[0;32m     14\u001b[0m )\n",
      "File \u001b[1;32mc:\\Users\\SébastienBernard\\Documents\\GitHub\\devops-metrics\\src\\extractor\\__init__.py:2\u001b[0m\n\u001b[0;32m      1\u001b[0m \u001b[38;5;28;01mfrom\u001b[39;00m\u001b[38;5;250m \u001b[39m\u001b[38;5;21;01m.\u001b[39;00m\u001b[38;5;250m \u001b[39m\u001b[38;5;28;01mimport\u001b[39;00m exporter\n\u001b[1;32m----> 2\u001b[0m \u001b[38;5;28;01mfrom\u001b[39;00m\u001b[38;5;250m \u001b[39m\u001b[38;5;21;01m.\u001b[39;00m\u001b[38;5;250m \u001b[39m\u001b[38;5;28;01mimport\u001b[39;00m jiracloud_exporter\n",
      "File \u001b[1;32mc:\\Users\\SébastienBernard\\Documents\\GitHub\\devops-metrics\\src\\extractor\\jiracloud_exporter.py:3\u001b[0m\n\u001b[0;32m      1\u001b[0m \u001b[38;5;28;01mfrom\u001b[39;00m\u001b[38;5;250m \u001b[39m\u001b[38;5;21;01m__future__\u001b[39;00m\u001b[38;5;250m \u001b[39m\u001b[38;5;28;01mimport\u001b[39;00m annotations\n\u001b[0;32m      2\u001b[0m \u001b[38;5;28;01mfrom\u001b[39;00m\u001b[38;5;250m \u001b[39m\u001b[38;5;21;01msrc\u001b[39;00m\u001b[38;5;21;01m.\u001b[39;00m\u001b[38;5;21;01mextractor\u001b[39;00m\u001b[38;5;250m \u001b[39m\u001b[38;5;28;01mimport\u001b[39;00m exporter\n\u001b[1;32m----> 3\u001b[0m \u001b[38;5;28;01mimport\u001b[39;00m\u001b[38;5;250m \u001b[39m\u001b[38;5;21;01mrequests\u001b[39;00m\n\u001b[0;32m      4\u001b[0m \u001b[38;5;28;01mfrom\u001b[39;00m\u001b[38;5;250m \u001b[39m\u001b[38;5;21;01mconcurrent\u001b[39;00m\u001b[38;5;21;01m.\u001b[39;00m\u001b[38;5;21;01mfutures\u001b[39;00m\u001b[38;5;250m \u001b[39m\u001b[38;5;28;01mimport\u001b[39;00m ThreadPoolExecutor, as_completed\n\u001b[0;32m      5\u001b[0m \u001b[38;5;28;01mimport\u001b[39;00m\u001b[38;5;250m \u001b[39m\u001b[38;5;21;01mpandas\u001b[39;00m\u001b[38;5;250m \u001b[39m\u001b[38;5;28;01mas\u001b[39;00m\u001b[38;5;250m \u001b[39m\u001b[38;5;21;01mpd\u001b[39;00m\n",
      "\u001b[1;31mModuleNotFoundError\u001b[0m: No module named 'requests'"
     ]
    }
   ],
   "source": [
    "# If your project structure is something like:\n",
    "# PROJECT_ROOT/\n",
    "#   |-- notebooks/debug_copilot_usage.ipynb\n",
    "#   |-- src/\n",
    "#        |-- extractor/\n",
    "#             |-- github_exporter.py\n",
    "#             |-- github_copilot_exporter.py\n",
    "#        |-- common/\n",
    "#             |-- common.py\n",
    "#        |-- ...\n",
    "# make sure to add the project root to sys.path if needed.\n",
    "\n",
    "import sys\n",
    "import os\n",
    "project_root = os.path.abspath(os.path.join('..'))  # Adjust path if needed\n",
    "if project_root not in sys.path:\n",
    "    sys.path.append(project_root)\n",
    "\n",
    "# Now we can import our local modules:\n",
    "from src.extractor.github_copilot_exporter import GithubCopilotExporter\n",
    "import pandas as pd\n",
    "\n",
    "pd.options.mode.chained_assignment = None"
   ]
  },
  {
   "cell_type": "markdown",
   "metadata": {},
   "source": [
    "## Prepare a Configuration Dictionary\n",
    "Below is a sample configuration dictionary. Adjust the values according to your project’s needs or how you manage configs (e.g., from a .ini or .env file)."
   ]
  },
  {
   "cell_type": "code",
   "execution_count": null,
   "metadata": {
    "tags": []
   },
   "outputs": [],
   "source": [
    "config = {\n",
    "    \"GITHUB\": {\n",
    "        \"github_url\": \"https://api.github.com\",\n",
    "        \"github_org\": \"gologic-partner\",     # Replace with your organization\n",
    "        \"github_token\": \"\",  # Replace with your token\n",
    "    },\n",
    "    # Other config sections if needed...\n",
    "}\n",
    "\n",
    "# Instantiate the Exporter\n",
    "copilot_exporter = GithubCopilotExporter()\n",
    "copilot_exporter.initialize_data(config)"
   ]
  },
  {
   "cell_type": "markdown",
   "metadata": {},
   "source": [
    "## Call the Copilot Usage Endpoint\n",
    "We’ll do a simple request to GitHub’s Copilot usage endpoint. Adjust the query parameters (e.g., since, until) as needed.\n",
    "\n",
    "For reference, see: [Copilot Usage Docs](https://docs.github.com/en/rest/copilot/copilot-usage?apiVersion=2022-11-28)."
   ]
  },
  {
   "cell_type": "code",
   "execution_count": null,
   "metadata": {},
   "outputs": [],
   "source": [
    "endpoint = f\"orgs/{copilot_exporter.github_org}/copilot/metrics\"\n",
    "# If you want to pass query parameters, you could do something like:\n",
    "# endpoint = f\"orgs/{copilot_exporter.github_org}/copilot/usage?since=2023-01-01&until=2023-01-31\"\n",
    "\n",
    "usage_data = copilot_exporter.execute_simple_request(endpoint)\n",
    "\n",
    "print(\"Raw Usage Data (truncated):\")\n",
    "print(usage_data[:1])  # Display only the first element if it’s a list"
   ]
  },
  {
   "cell_type": "markdown",
   "metadata": {},
   "source": [
    "## Adapt the Usage Data\n",
    "Here we call the `adapt_usage` (which you can define in your exporter module following the same pattern as other `adapt_*` methods) to structure the data into a DataFrame or DataFrames."
   ]
  },
  {
   "cell_type": "code",
   "execution_count": null,
   "metadata": {},
   "outputs": [],
   "source": [
    "# In case you already have a method like 'adapt_usage' in your GithubCopilotExporter\n",
    "# you can call it directly. Otherwise, define it similarly to how you have adapt_pulls, etc.\n",
    "\n",
    "adapted_usage = copilot_exporter.adapt_usage(usage_data)\n",
    "\n",
    "# The result might be a dict of DataFrames:\n",
    "df_usage = adapted_usage[\"df_usage\"]\n",
    "df_usage_breakdown = adapted_usage[\"df_usage_breakdown\"]\n",
    "\n",
    "print(\"DataFrame: df_usage\")\n",
    "display(df_usage.head())\n",
    "\n",
    "print(\"DataFrame: df_usage_breakdown\")\n",
    "display(df_usage_breakdown.head())"
   ]
  },
  {
   "cell_type": "code",
   "execution_count": null,
   "id": "4a3b7ec2",
   "metadata": {},
   "outputs": [],
   "source": [
    "# Cell 2 - Code\n",
    "# First get the teams\n",
    "teams = copilot_exporter.extract_teams()\n",
    "print(\"\\nTeams found:\")\n",
    "for team in teams:\n",
    "    print(f\"- {team['name']} (slug: {team['slug']})\")"
   ]
  },
  {
   "cell_type": "code",
   "execution_count": null,
   "id": "789dd3ac",
   "metadata": {},
   "outputs": [],
   "source": [
    "# Cell 3 - Code\n",
    "# Get metrics for each team\n",
    "metrics_per_team = copilot_exporter.extract_metrics_per_team(teams)\n",
    "\n",
    "print(\"\\nMetrics per team:\")\n",
    "for team_slug, metrics in metrics_per_team.items():\n",
    "    print(f\"\\nTeam: {team_slug}\")\n",
    "    print(f\"Number of data points: {len(metrics)}\")\n",
    "    if len(metrics) > 0:\n",
    "        print(\"Sample metrics:\")\n",
    "        print(metrics[0])"
   ]
  },
  {
   "cell_type": "markdown",
   "metadata": {},
   "source": [
    "## Conclusion\n",
    "You can now inspect these DataFrames, observe schema changes, and debug any issues with your transformation logic or with the GitHub API data itself. Use additional cells as needed to explore data, handle errors, etc."
   ]
  }
 ],
 "metadata": {
  "kernelspec": {
   "display_name": "Python 3",
   "language": "python",
   "name": "python3"
  },
  "language_info": {
   "codemirror_mode": {
    "name": "ipython",
    "version": 3
   },
   "file_extension": ".py",
   "mimetype": "text/x-python",
   "name": "python",
   "nbconvert_exporter": "python",
   "pygments_lexer": "ipython3",
   "version": "3.12.3"
  }
 },
 "nbformat": 4,
 "nbformat_minor": 5
}
